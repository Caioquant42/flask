{
 "cells": [
  {
   "cell_type": "code",
   "execution_count": 4,
   "metadata": {},
   "outputs": [],
   "source": [
    "from quant_port import mcport, mlnsupport\n",
    "\n",
    "import yfinance as yf"
   ]
  },
  {
   "cell_type": "code",
   "execution_count": 6,
   "metadata": {},
   "outputs": [],
   "source": [
    "sym = ['BOVA11.SA','PRIO3.SA', 'PETR3.SA', 'CASH3.SA', 'POSI3.SA', 'MRFG3.SA', \"JBSS3.SA\", 'ITUB4.SA','VALE3.SA']"
   ]
  },
  {
   "cell_type": "code",
   "execution_count": 7,
   "metadata": {},
   "outputs": [
    {
     "name": "stdout",
     "output_type": "stream",
     "text": [
      "YF.download() has changed argument auto_adjust default to True\n"
     ]
    },
    {
     "name": "stderr",
     "output_type": "stream",
     "text": [
      "[*********************100%***********************]  9 of 9 completed\n"
     ]
    }
   ],
   "source": [
    "da = yf.download(sym,period='1y')['Close']"
   ]
  },
  {
   "cell_type": "code",
   "execution_count": 8,
   "metadata": {},
   "outputs": [
    {
     "data": {
      "text/html": [
       "<div>\n",
       "<style scoped>\n",
       "    .dataframe tbody tr th:only-of-type {\n",
       "        vertical-align: middle;\n",
       "    }\n",
       "\n",
       "    .dataframe tbody tr th {\n",
       "        vertical-align: top;\n",
       "    }\n",
       "\n",
       "    .dataframe thead th {\n",
       "        text-align: right;\n",
       "    }\n",
       "</style>\n",
       "<table border=\"1\" class=\"dataframe\">\n",
       "  <thead>\n",
       "    <tr style=\"text-align: right;\">\n",
       "      <th>Ticker</th>\n",
       "      <th>BOVA11.SA</th>\n",
       "      <th>CASH3.SA</th>\n",
       "      <th>ITUB4.SA</th>\n",
       "      <th>JBSS3.SA</th>\n",
       "      <th>MRFG3.SA</th>\n",
       "      <th>PETR3.SA</th>\n",
       "      <th>POSI3.SA</th>\n",
       "      <th>PRIO3.SA</th>\n",
       "      <th>VALE3.SA</th>\n",
       "    </tr>\n",
       "    <tr>\n",
       "      <th>Date</th>\n",
       "      <th></th>\n",
       "      <th></th>\n",
       "      <th></th>\n",
       "      <th></th>\n",
       "      <th></th>\n",
       "      <th></th>\n",
       "      <th></th>\n",
       "      <th></th>\n",
       "      <th></th>\n",
       "    </tr>\n",
       "  </thead>\n",
       "  <tbody>\n",
       "    <tr>\n",
       "      <th>2024-03-18</th>\n",
       "      <td>123.050003</td>\n",
       "      <td>3.339802</td>\n",
       "      <td>31.859118</td>\n",
       "      <td>21.312143</td>\n",
       "      <td>8.526697</td>\n",
       "      <td>30.572388</td>\n",
       "      <td>7.827231</td>\n",
       "      <td>47.759998</td>\n",
       "      <td>56.046478</td>\n",
       "    </tr>\n",
       "    <tr>\n",
       "      <th>2024-03-19</th>\n",
       "      <td>123.730003</td>\n",
       "      <td>3.272161</td>\n",
       "      <td>31.905046</td>\n",
       "      <td>21.358194</td>\n",
       "      <td>8.552405</td>\n",
       "      <td>30.233433</td>\n",
       "      <td>8.247230</td>\n",
       "      <td>49.209999</td>\n",
       "      <td>56.506630</td>\n",
       "    </tr>\n",
       "    <tr>\n",
       "      <th>2024-03-20</th>\n",
       "      <td>125.449997</td>\n",
       "      <td>3.255250</td>\n",
       "      <td>31.969355</td>\n",
       "      <td>21.395035</td>\n",
       "      <td>8.595254</td>\n",
       "      <td>30.861744</td>\n",
       "      <td>8.132685</td>\n",
       "      <td>47.450001</td>\n",
       "      <td>56.883953</td>\n",
       "    </tr>\n",
       "    <tr>\n",
       "      <th>2024-03-21</th>\n",
       "      <td>124.370003</td>\n",
       "      <td>3.280616</td>\n",
       "      <td>31.638638</td>\n",
       "      <td>21.358194</td>\n",
       "      <td>8.826632</td>\n",
       "      <td>30.233433</td>\n",
       "      <td>8.323593</td>\n",
       "      <td>47.099998</td>\n",
       "      <td>56.745907</td>\n",
       "    </tr>\n",
       "    <tr>\n",
       "      <th>2024-03-22</th>\n",
       "      <td>123.209999</td>\n",
       "      <td>3.242568</td>\n",
       "      <td>31.196230</td>\n",
       "      <td>21.229252</td>\n",
       "      <td>8.243902</td>\n",
       "      <td>30.473183</td>\n",
       "      <td>8.399956</td>\n",
       "      <td>46.689999</td>\n",
       "      <td>56.092491</td>\n",
       "    </tr>\n",
       "    <tr>\n",
       "      <th>...</th>\n",
       "      <td>...</td>\n",
       "      <td>...</td>\n",
       "      <td>...</td>\n",
       "      <td>...</td>\n",
       "      <td>...</td>\n",
       "      <td>...</td>\n",
       "      <td>...</td>\n",
       "      <td>...</td>\n",
       "      <td>...</td>\n",
       "    </tr>\n",
       "    <tr>\n",
       "      <th>2025-03-11</th>\n",
       "      <td>120.550003</td>\n",
       "      <td>3.520000</td>\n",
       "      <td>32.599998</td>\n",
       "      <td>32.110001</td>\n",
       "      <td>14.570000</td>\n",
       "      <td>36.580002</td>\n",
       "      <td>5.180000</td>\n",
       "      <td>37.160000</td>\n",
       "      <td>54.439999</td>\n",
       "    </tr>\n",
       "    <tr>\n",
       "      <th>2025-03-12</th>\n",
       "      <td>120.739998</td>\n",
       "      <td>3.520000</td>\n",
       "      <td>32.700001</td>\n",
       "      <td>33.000000</td>\n",
       "      <td>15.030000</td>\n",
       "      <td>36.709999</td>\n",
       "      <td>5.140000</td>\n",
       "      <td>36.880001</td>\n",
       "      <td>53.759998</td>\n",
       "    </tr>\n",
       "    <tr>\n",
       "      <th>2025-03-13</th>\n",
       "      <td>122.510002</td>\n",
       "      <td>3.600000</td>\n",
       "      <td>33.230000</td>\n",
       "      <td>32.970001</td>\n",
       "      <td>14.940000</td>\n",
       "      <td>36.970001</td>\n",
       "      <td>5.070000</td>\n",
       "      <td>36.500000</td>\n",
       "      <td>54.500000</td>\n",
       "    </tr>\n",
       "    <tr>\n",
       "      <th>2025-03-14</th>\n",
       "      <td>125.750000</td>\n",
       "      <td>3.570000</td>\n",
       "      <td>34.310001</td>\n",
       "      <td>33.230000</td>\n",
       "      <td>15.260000</td>\n",
       "      <td>38.410000</td>\n",
       "      <td>5.380000</td>\n",
       "      <td>39.349998</td>\n",
       "      <td>56.290001</td>\n",
       "    </tr>\n",
       "    <tr>\n",
       "      <th>2025-03-17</th>\n",
       "      <td>127.760002</td>\n",
       "      <td>3.590000</td>\n",
       "      <td>35.340000</td>\n",
       "      <td>32.750000</td>\n",
       "      <td>14.810000</td>\n",
       "      <td>39.299999</td>\n",
       "      <td>5.490000</td>\n",
       "      <td>39.700001</td>\n",
       "      <td>57.099998</td>\n",
       "    </tr>\n",
       "  </tbody>\n",
       "</table>\n",
       "<p>250 rows × 9 columns</p>\n",
       "</div>"
      ],
      "text/plain": [
       "Ticker       BOVA11.SA  CASH3.SA   ITUB4.SA   JBSS3.SA   MRFG3.SA   PETR3.SA  \\\n",
       "Date                                                                           \n",
       "2024-03-18  123.050003  3.339802  31.859118  21.312143   8.526697  30.572388   \n",
       "2024-03-19  123.730003  3.272161  31.905046  21.358194   8.552405  30.233433   \n",
       "2024-03-20  125.449997  3.255250  31.969355  21.395035   8.595254  30.861744   \n",
       "2024-03-21  124.370003  3.280616  31.638638  21.358194   8.826632  30.233433   \n",
       "2024-03-22  123.209999  3.242568  31.196230  21.229252   8.243902  30.473183   \n",
       "...                ...       ...        ...        ...        ...        ...   \n",
       "2025-03-11  120.550003  3.520000  32.599998  32.110001  14.570000  36.580002   \n",
       "2025-03-12  120.739998  3.520000  32.700001  33.000000  15.030000  36.709999   \n",
       "2025-03-13  122.510002  3.600000  33.230000  32.970001  14.940000  36.970001   \n",
       "2025-03-14  125.750000  3.570000  34.310001  33.230000  15.260000  38.410000   \n",
       "2025-03-17  127.760002  3.590000  35.340000  32.750000  14.810000  39.299999   \n",
       "\n",
       "Ticker      POSI3.SA   PRIO3.SA   VALE3.SA  \n",
       "Date                                        \n",
       "2024-03-18  7.827231  47.759998  56.046478  \n",
       "2024-03-19  8.247230  49.209999  56.506630  \n",
       "2024-03-20  8.132685  47.450001  56.883953  \n",
       "2024-03-21  8.323593  47.099998  56.745907  \n",
       "2024-03-22  8.399956  46.689999  56.092491  \n",
       "...              ...        ...        ...  \n",
       "2025-03-11  5.180000  37.160000  54.439999  \n",
       "2025-03-12  5.140000  36.880001  53.759998  \n",
       "2025-03-13  5.070000  36.500000  54.500000  \n",
       "2025-03-14  5.380000  39.349998  56.290001  \n",
       "2025-03-17  5.490000  39.700001  57.099998  \n",
       "\n",
       "[250 rows x 9 columns]"
      ]
     },
     "execution_count": 8,
     "metadata": {},
     "output_type": "execute_result"
    }
   ],
   "source": [
    "da"
   ]
  },
  {
   "cell_type": "code",
   "execution_count": 9,
   "metadata": {},
   "outputs": [
    {
     "name": "stdout",
     "output_type": "stream",
     "text": [
      "Ativos com Melhor Relação em Cada Cluster: ['MRFG3.SA', 'JBSS3.SA', 'ITUB4.SA']\n",
      "Ativos com Melhor Relação em Cada Cluster: ['MRFG3.SA', 'JBSS3.SA', 'ITUB4.SA', 'CASH3.SA']\n",
      "Ativos com Melhor Relação em Cada Cluster: ['MRFG3.SA', 'JBSS3.SA', 'ITUB4.SA', 'CASH3.SA', 'POSI3.SA']\n",
      "Ativos com Melhor Relação em Cada Cluster: ['MRFG3.SA', 'JBSS3.SA', 'ITUB4.SA']\n",
      "Ativos com Melhor Relação em Cada Cluster: ['MRFG3.SA', 'JBSS3.SA', 'ITUB4.SA', 'CASH3.SA']\n",
      "Ativos com Melhor Relação em Cada Cluster: ['MRFG3.SA', 'JBSS3.SA', 'ITUB4.SA', 'POSI3.SA', 'CASH3.SA']\n",
      "Ativos com Melhor Relação em Cada Cluster: ['MRFG3.SA', 'PETR3.SA', 'CASH3.SA']\n",
      "Ativos com Melhor Relação em Cada Cluster: ['MRFG3.SA', 'PETR3.SA', 'POSI3.SA', 'CASH3.SA']\n",
      "Ativos com Melhor Relação em Cada Cluster: ['MRFG3.SA', 'ITUB4.SA', 'POSI3.SA', 'CASH3.SA', 'JBSS3.SA']\n",
      "Ativos com Melhor Relação em Cada Cluster: ['MRFG3.SA', 'PETR3.SA', 'CASH3.SA']\n",
      "Ativos com Melhor Relação em Cada Cluster: ['MRFG3.SA', 'PETR3.SA', 'POSI3.SA', 'CASH3.SA']\n",
      "Ativos com Melhor Relação em Cada Cluster: ['MRFG3.SA', 'ITUB4.SA', 'POSI3.SA', 'CASH3.SA', 'PETR3.SA']\n"
     ]
    }
   ],
   "source": [
    "\n",
    "r = mlnsupport(da, nret_ = 5, list_clust_ = [3,4,5])"
   ]
  },
  {
   "cell_type": "code",
   "execution_count": 10,
   "metadata": {},
   "outputs": [
    {
     "data": {
      "text/html": [
       "<div>\n",
       "<style scoped>\n",
       "    .dataframe tbody tr th:only-of-type {\n",
       "        vertical-align: middle;\n",
       "    }\n",
       "\n",
       "    .dataframe tbody tr th {\n",
       "        vertical-align: top;\n",
       "    }\n",
       "\n",
       "    .dataframe thead th {\n",
       "        text-align: right;\n",
       "    }\n",
       "</style>\n",
       "<table border=\"1\" class=\"dataframe\">\n",
       "  <thead>\n",
       "    <tr style=\"text-align: right;\">\n",
       "      <th></th>\n",
       "      <th>ATIVO</th>\n",
       "      <th>FREQ</th>\n",
       "    </tr>\n",
       "  </thead>\n",
       "  <tbody>\n",
       "    <tr>\n",
       "      <th>0</th>\n",
       "      <td>MRFG3.SA</td>\n",
       "      <td>12</td>\n",
       "    </tr>\n",
       "    <tr>\n",
       "      <th>1</th>\n",
       "      <td>CASH3.SA</td>\n",
       "      <td>10</td>\n",
       "    </tr>\n",
       "    <tr>\n",
       "      <th>2</th>\n",
       "      <td>ITUB4.SA</td>\n",
       "      <td>8</td>\n",
       "    </tr>\n",
       "    <tr>\n",
       "      <th>3</th>\n",
       "      <td>JBSS3.SA</td>\n",
       "      <td>7</td>\n",
       "    </tr>\n",
       "    <tr>\n",
       "      <th>4</th>\n",
       "      <td>POSI3.SA</td>\n",
       "      <td>6</td>\n",
       "    </tr>\n",
       "    <tr>\n",
       "      <th>5</th>\n",
       "      <td>PETR3.SA</td>\n",
       "      <td>5</td>\n",
       "    </tr>\n",
       "  </tbody>\n",
       "</table>\n",
       "</div>"
      ],
      "text/plain": [
       "      ATIVO  FREQ\n",
       "0  MRFG3.SA    12\n",
       "1  CASH3.SA    10\n",
       "2  ITUB4.SA     8\n",
       "3  JBSS3.SA     7\n",
       "4  POSI3.SA     6\n",
       "5  PETR3.SA     5"
      ]
     },
     "execution_count": 10,
     "metadata": {},
     "output_type": "execute_result"
    }
   ],
   "source": [
    "r"
   ]
  },
  {
   "cell_type": "code",
   "execution_count": 11,
   "metadata": {},
   "outputs": [
    {
     "data": {
      "text/plain": [
       "pandas.core.frame.DataFrame"
      ]
     },
     "execution_count": 11,
     "metadata": {},
     "output_type": "execute_result"
    }
   ],
   "source": [
    "type(r)"
   ]
  },
  {
   "cell_type": "code",
   "execution_count": 12,
   "metadata": {},
   "outputs": [
    {
     "name": "stdout",
     "output_type": "stream",
     "text": [
      "Tam Port = 4, retorno = 5, Tivermos 111 portfólios acima do IBOV de um total de 1200\n"
     ]
    }
   ],
   "source": [
    "r2 = mcport(da, ret = 5, n_sim_mc = 1200, tam_port_ = 4)"
   ]
  },
  {
   "cell_type": "code",
   "execution_count": 13,
   "metadata": {},
   "outputs": [
    {
     "data": {
      "text/plain": [
       "{'saldo': 111,\n",
       " 'JBSS3.SA': 60,\n",
       " 'PETR3.SA': 59,\n",
       " 'MRFG3.SA': 58,\n",
       " 'VALE3.SA': 57,\n",
       " 'POSI3.SA': 57,\n",
       " 'CASH3.SA': 53,\n",
       " 'PRIO3.SA': 51,\n",
       " 'ITUB4.SA': 49}"
      ]
     },
     "execution_count": 13,
     "metadata": {},
     "output_type": "execute_result"
    }
   ],
   "source": [
    "r2"
   ]
  },
  {
   "cell_type": "code",
   "execution_count": null,
   "metadata": {},
   "outputs": [],
   "source": []
  }
 ],
 "metadata": {
  "kernelspec": {
   "display_name": "webenv",
   "language": "python",
   "name": "python3"
  },
  "language_info": {
   "codemirror_mode": {
    "name": "ipython",
    "version": 3
   },
   "file_extension": ".py",
   "mimetype": "text/x-python",
   "name": "python",
   "nbconvert_exporter": "python",
   "pygments_lexer": "ipython3",
   "version": "3.13.1"
  }
 },
 "nbformat": 4,
 "nbformat_minor": 2
}
